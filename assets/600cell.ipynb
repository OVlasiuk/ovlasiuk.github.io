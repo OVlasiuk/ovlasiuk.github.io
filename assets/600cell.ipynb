{
 "cells": [
  {
   "cell_type": "markdown",
   "metadata": {},
   "source": [
    "# Appendix to _Optimal measures for $p$-frame energies on spheres_\n",
    "### by Dmitriy Bilyk, Alexey Glazyrin, Ryan Matzke, Josiah Park, and Oleksandr Vlasiuk\n",
    "# 600-cell is optimal for p-frame energies with $p\\in [8,10]$"
   ]
  },
  {
   "cell_type": "markdown",
   "metadata": {},
   "source": [
    "As discussed in Section 4, in order to prove optimality of the 600-cell, it suffices to find an Hermite interpolating polynomial for the kernel function, agreeing with it at the scalar products of the 600-cell, and show that it is positive definite. It is done here by showing that the Jacobi coefficients of the polynomial $h$ are positive."
   ]
  },
  {
   "cell_type": "markdown",
   "metadata": {},
   "source": [
    "## Spanning a polynomial by the Jacobi basis"
   ]
  },
  {
   "cell_type": "markdown",
   "metadata": {},
   "source": [
    "Instead of minimizing the p-frame energy on $\\mathbb S^3$, we symmetrize measures under consideration and minimize\n",
    "$$ \\iint_{\\mathbb R\\mathbb P^3} \\left(\\frac{\\tau(x,y) +1}2 \\right)^{p/2} d\\mu(x)d\\mu(y)  $$"
   ]
  },
  {
   "cell_type": "markdown",
   "metadata": {},
   "source": [
    "Recall that here $\\tau(x,y) = \\cos(\\theta(x,y))$, and $\\theta$ denotes the geodesic distance renormalized to $[0,\\pi]$."
   ]
  },
  {
   "cell_type": "code",
   "execution_count": 1,
   "metadata": {},
   "outputs": [],
   "source": [
    "a = 1/2\n",
    "b = -1/2\n",
    "\n",
    "scalar_prods = [1,(sqrt(5)-1)/4, -1/2, -(sqrt(5)+1)/4, -1]"
   ]
  },
  {
   "cell_type": "code",
   "execution_count": 2,
   "metadata": {},
   "outputs": [],
   "source": [
    "A = [var('h_%d'%i) for i in (0..8)]\n",
    "p,t = var('p t')"
   ]
  },
  {
   "cell_type": "markdown",
   "metadata": {},
   "source": [
    "$h$ is a polynomial spanned by Jacobi poynomials $ C_n^{(\\frac12,-\\frac12)}(t), $ $ n=0,\\ldots,8; n\\neq 6 $:\n",
    "$$ h = \\left(\\sum_{n=0}^5 +  \\sum_{n=7}^8\\right) h_n\\, C_n^{\\left(\\frac12,-\\frac12\\right)}(t). $$"
   ]
  },
  {
   "cell_type": "code",
   "execution_count": 3,
   "metadata": {},
   "outputs": [],
   "source": [
    "h = symbolic_expression(0)\n",
    "for i in (0..5):\n",
    "    h += A[i]*jacobi_P(i,a,b,t)\n",
    "for i in (7..8):\n",
    "    h += A[i]*jacobi_P(i,a,b,t)"
   ]
  },
  {
   "cell_type": "markdown",
   "metadata": {},
   "source": [
    "Derivative of h:"
   ]
  },
  {
   "cell_type": "code",
   "execution_count": 4,
   "metadata": {},
   "outputs": [],
   "source": [
    "hprime = diff(h,t)"
   ]
  },
  {
   "cell_type": "markdown",
   "metadata": {},
   "source": [
    "## Interpolation"
   ]
  },
  {
   "cell_type": "markdown",
   "metadata": {},
   "source": [
    "Let $f$ be the kernel of the symmetrized problem"
   ]
  },
  {
   "cell_type": "code",
   "execution_count": 5,
   "metadata": {},
   "outputs": [],
   "source": [
    "f = ((t+1)/2)^(p/2)\n",
    "fprime = diff(f, t)"
   ]
  },
  {
   "cell_type": "markdown",
   "metadata": {},
   "source": [
    "Jacobi coefficients of the interpolating polynomial are found from the Hermite interpolation conditions. f and h must agree at all the scalar products, and their derivatives must be equal at all the inner products except the endpoints $\\pm1$:"
   ]
  },
  {
   "cell_type": "code",
   "execution_count": 6,
   "metadata": {},
   "outputs": [],
   "source": [
    "inter0 = [f.subs(t=s)==h.subs(t=s) for s in scalar_prods]\n",
    "inter1 = [fprime.subs(t=s)==hprime.subs(t=s) for s in scalar_prods[1:-1]]\n",
    "interpolate = inter0 + inter1"
   ]
  },
  {
   "cell_type": "code",
   "execution_count": 7,
   "metadata": {},
   "outputs": [],
   "source": [
    "coeffs_sol = solve(interpolate, A)[0]"
   ]
  },
  {
   "cell_type": "markdown",
   "metadata": {},
   "source": [
    "Coefficients $h_0,\\ldots h_8$ as functions of $p$:"
   ]
  },
  {
   "cell_type": "code",
   "execution_count": 8,
   "metadata": {},
   "outputs": [],
   "source": [
    "coeffs = [c.rhs() for c in coeffs_sol]"
   ]
  },
  {
   "cell_type": "markdown",
   "metadata": {},
   "source": [
    "## Interval arithmetic and derivative bounds"
   ]
  },
  {
   "cell_type": "markdown",
   "metadata": {},
   "source": [
    "We shall carry out all the non-symbolic computations in the interval arithmetic. First, we set the format for the output of a computation as an interval."
   ]
  },
  {
   "cell_type": "code",
   "execution_count": 9,
   "metadata": {},
   "outputs": [],
   "source": [
    "sage.rings.real_mpfi.printing_style = 'brackets'"
   ]
  },
  {
   "cell_type": "markdown",
   "metadata": {},
   "source": [
    "We shall need a bound on the absolute value of the derivative of $h_i$. It is obtained by expanding the expression for $h_i$ into a sum, then replacing every term in the sum by its maximal absolute value on $[8,10]$. Finally, all the absolute values are summed up using triangle inequality."
   ]
  },
  {
   "cell_type": "markdown",
   "metadata": {},
   "source": [
    "Summands of $\\frac{dh_i}{dp}$ are easy to estimate by monotonicity. After the _expand_ command, derivative cprime is a sum of several summands, each of which is a product of factors, monotonic on $[8,10]$. We exploit this structure by replacing every (positive) factor with its maximal value.\n",
    "deriv_bound is obtained by summing up the absolute values of the operands of cprime."
   ]
  },
  {
   "cell_type": "code",
   "execution_count": 10,
   "metadata": {},
   "outputs": [],
   "source": [
    "deriv_bounds = []\n",
    "for c in coeffs:\n",
    "    cprime = diff(expand(c),p)\n",
    "\n",
    "    csub = cprime.subs((1/8*sqrt(5) + 3/8)^(1/2*p)==RIF(1/8*sqrt(5) + 3/8)^(1/2*RIF(8))\n",
    "             ).subs(4^(1/2*p)==4^(1/2*RIF(8))\n",
    "                   ).subs((-1/8*sqrt(5) + 3/8)^(1/2*p)==RIF(-1/8*sqrt(5) + 3/8)^(1/2*RIF(8))\n",
    "                         ).subs(p=RIF(10))\n",
    "\n",
    "    deriv_bound = symbolic_expression(0)\n",
    "    for o in csub.operands():\n",
    "        deriv_bound += abs(o)\n",
    "    deriv_bounds.append(RIF(deriv_bound))"
   ]
  },
  {
   "cell_type": "code",
   "execution_count": 11,
   "metadata": {},
   "outputs": [
    {
     "data": {
      "text/plain": [
       "[[0.0087005417083128467 .. 0.0087005417083128728],\n",
       " [0.046057770601501762 .. 0.046057770601502013],\n",
       " [0.55126143476111155 .. 0.55126143476111378],\n",
       " [0.35931366896653027 .. 0.35931366896653167],\n",
       " [0.11947185504173116 .. 0.11947185504173164],\n",
       " [0.049788504505656708 .. 0.049788504505657035],\n",
       " [0.0000000000000000 .. -0.0000000000000000],\n",
       " [0.11682913291810448 .. 0.11682913291810493],\n",
       " [0.57379946418760030 .. 0.57379946418760253]]"
      ]
     },
     "execution_count": 11,
     "metadata": {},
     "output_type": "execute_result"
    }
   ],
   "source": [
    "deriv_bounds"
   ]
  },
  {
   "cell_type": "markdown",
   "metadata": {},
   "source": [
    "It follows that derivatives of all the coefficients are uniformly bounded on $[8,10]$ by e.g. 0.6.\n",
    "\n",
    "Notice that, since we are using the default precision of 53 bits, here and in what follows the last 3-4 digits are not significant. This can be also seen by switching to the default printing style using\n",
    "```\n",
    "sage.rings.real_mpfi.printing_style = 'question'\n",
    "```"
   ]
  },
  {
   "cell_type": "markdown",
   "metadata": {},
   "source": [
    "## Positivity of coefficients"
   ]
  },
  {
   "cell_type": "markdown",
   "metadata": {},
   "source": [
    "### Bounding coefficients $h_0,\\ldots,h_4$ away from zero"
   ]
  },
  {
   "cell_type": "markdown",
   "metadata": {},
   "source": [
    "Check that the coefficients $h_0,\\ldots,h_4$ are positive at $p=8$:"
   ]
  },
  {
   "cell_type": "code",
   "execution_count": 12,
   "metadata": {
    "scrolled": true
   },
   "outputs": [
    {
     "data": {
      "text/plain": [
       "[[0.054687499999999861 .. 0.054687500000000174],\n",
       " [0.21874999999999936 .. 0.21875000000000092],\n",
       " [0.20833333333332870 .. 0.20833333333333793],\n",
       " [0.087499999999996913 .. 0.087500000000003131],\n",
       " [0.014285714285713013 .. 0.014285714285715512]]"
      ]
     },
     "execution_count": 12,
     "metadata": {},
     "output_type": "execute_result"
    }
   ],
   "source": [
    "[RIF(coeffs[i].subs(p=RIF(8))) for i in (0..4)]"
   ]
  },
  {
   "cell_type": "markdown",
   "metadata": {},
   "source": [
    "The last three $h_5,h_7,h_8$ are equal to zero at $p=8$, and so will requre somputing the second derivative. "
   ]
  },
  {
   "cell_type": "code",
   "execution_count": 13,
   "metadata": {},
   "outputs": [
    {
     "data": {
      "text/plain": [
       "[[-1.8041124150158794e-16 .. 1.7347234759768071e-16],\n",
       " [-1.1379786002407855e-15 .. 1.0824674490095277e-15],\n",
       " [-4.3298697960381106e-15 .. 4.3298697960381106e-15]]"
      ]
     },
     "execution_count": 13,
     "metadata": {},
     "output_type": "execute_result"
    }
   ],
   "source": [
    "[RIF(coeffs[i].subs(p=RIF(8))) for i in [5,7,8]]"
   ]
  },
  {
   "cell_type": "markdown",
   "metadata": {},
   "source": [
    "For the first set of coefficients we proceed as follows. Since the first derivative of $h_n$ is bounded by $0.6$, if for some $p_0$, $h_n(p_0) > 0$, then the same applies to $h_n(p_0 + h_n(p_0))$, and also\n",
    "$$ h_n(p) >0, \\qquad p \\in [p_0, p_0 + h_n(p_0)]. $$\n",
    "The loop below iterates this argument, and stops once p has reached the value 10."
   ]
  },
  {
   "cell_type": "code",
   "execution_count": 14,
   "metadata": {},
   "outputs": [
    {
     "name": "stdout",
     "output_type": "stream",
     "text": [
      "Coefficient h_0:\n"
     ]
    },
    {
     "data": {
      "text/html": [
       "<html><script type=\"math/tex; mode=display\">\\newcommand{\\Bold}[1]{\\mathbf{#1}}\\frac{1}{5} \\, {\\left(\\frac{1}{8} \\, \\sqrt{5} + \\frac{3}{8}\\right)}^{\\frac{1}{2} \\, p} + \\frac{1}{5} \\, {\\left(-\\frac{1}{8} \\, \\sqrt{5} + \\frac{3}{8}\\right)}^{\\frac{1}{2} \\, p} + \\frac{1}{3 \\cdot 4^{\\frac{1}{2} \\, p}} + \\frac{1}{60}</script></html>"
      ],
      "text/latex": [
       "$$\\newcommand{\\Bold}[1]{\\mathbf{#1}}\\frac{1}{5} \\, {\\left(\\frac{1}{8} \\, \\sqrt{5} + \\frac{3}{8}\\right)}^{\\frac{1}{2} \\, p} + \\frac{1}{5} \\, {\\left(-\\frac{1}{8} \\, \\sqrt{5} + \\frac{3}{8}\\right)}^{\\frac{1}{2} \\, p} + \\frac{1}{3 \\cdot 4^{\\frac{1}{2} \\, p}} + \\frac{1}{60}$$"
      ],
      "text/plain": [
       "1/5*(1/8*sqrt(5) + 3/8)^(1/2*p) + 1/5*(-1/8*sqrt(5) + 3/8)^(1/2*p) + 1/3/4^(1/2*p) + 1/60"
      ]
     },
     "metadata": {},
     "output_type": "display_data"
    },
    {
     "name": "stdout",
     "output_type": "stream",
     "text": [
      "is positive for p in [8,10].\n",
      "\n",
      "\n",
      "Coefficient h_1:\n"
     ]
    },
    {
     "data": {
      "text/html": [
       "<html><script type=\"math/tex; mode=display\">\\newcommand{\\Bold}[1]{\\mathbf{#1}}-\\frac{1}{200} \\, \\sqrt{5} p {\\left(\\frac{1}{8} \\, \\sqrt{5} + \\frac{3}{8}\\right)}^{\\frac{1}{2} \\, p} + \\frac{1}{200} \\, \\sqrt{5} p {\\left(-\\frac{1}{8} \\, \\sqrt{5} + \\frac{3}{8}\\right)}^{\\frac{1}{2} \\, p} + \\frac{1}{40} \\, p {\\left(\\frac{1}{8} \\, \\sqrt{5} + \\frac{3}{8}\\right)}^{\\frac{1}{2} \\, p} + \\frac{1}{40} \\, p {\\left(-\\frac{1}{8} \\, \\sqrt{5} + \\frac{3}{8}\\right)}^{\\frac{1}{2} \\, p} + \\frac{11}{25} \\, \\sqrt{5} {\\left(\\frac{1}{8} \\, \\sqrt{5} + \\frac{3}{8}\\right)}^{\\frac{1}{2} \\, p} - \\frac{11}{25} \\, \\sqrt{5} {\\left(-\\frac{1}{8} \\, \\sqrt{5} + \\frac{3}{8}\\right)}^{\\frac{1}{2} \\, p} - \\frac{17}{50} \\, {\\left(\\frac{1}{8} \\, \\sqrt{5} + \\frac{3}{8}\\right)}^{\\frac{1}{2} \\, p} - \\frac{17}{50} \\, {\\left(-\\frac{1}{8} \\, \\sqrt{5} + \\frac{3}{8}\\right)}^{\\frac{1}{2} \\, p} - \\frac{p}{6 \\cdot 4^{\\frac{1}{2} \\, p}} + \\frac{13}{18 \\cdot 4^{\\frac{1}{2} \\, p}} + \\frac{149}{1800}</script></html>"
      ],
      "text/latex": [
       "$$\\newcommand{\\Bold}[1]{\\mathbf{#1}}-\\frac{1}{200} \\, \\sqrt{5} p {\\left(\\frac{1}{8} \\, \\sqrt{5} + \\frac{3}{8}\\right)}^{\\frac{1}{2} \\, p} + \\frac{1}{200} \\, \\sqrt{5} p {\\left(-\\frac{1}{8} \\, \\sqrt{5} + \\frac{3}{8}\\right)}^{\\frac{1}{2} \\, p} + \\frac{1}{40} \\, p {\\left(\\frac{1}{8} \\, \\sqrt{5} + \\frac{3}{8}\\right)}^{\\frac{1}{2} \\, p} + \\frac{1}{40} \\, p {\\left(-\\frac{1}{8} \\, \\sqrt{5} + \\frac{3}{8}\\right)}^{\\frac{1}{2} \\, p} + \\frac{11}{25} \\, \\sqrt{5} {\\left(\\frac{1}{8} \\, \\sqrt{5} + \\frac{3}{8}\\right)}^{\\frac{1}{2} \\, p} - \\frac{11}{25} \\, \\sqrt{5} {\\left(-\\frac{1}{8} \\, \\sqrt{5} + \\frac{3}{8}\\right)}^{\\frac{1}{2} \\, p} - \\frac{17}{50} \\, {\\left(\\frac{1}{8} \\, \\sqrt{5} + \\frac{3}{8}\\right)}^{\\frac{1}{2} \\, p} - \\frac{17}{50} \\, {\\left(-\\frac{1}{8} \\, \\sqrt{5} + \\frac{3}{8}\\right)}^{\\frac{1}{2} \\, p} - \\frac{p}{6 \\cdot 4^{\\frac{1}{2} \\, p}} + \\frac{13}{18 \\cdot 4^{\\frac{1}{2} \\, p}} + \\frac{149}{1800}$$"
      ],
      "text/plain": [
       "-1/200*sqrt(5)*p*(1/8*sqrt(5) + 3/8)^(1/2*p) + 1/200*sqrt(5)*p*(-1/8*sqrt(5) + 3/8)^(1/2*p) + 1/40*p*(1/8*sqrt(5) + 3/8)^(1/2*p) + 1/40*p*(-1/8*sqrt(5) + 3/8)^(1/2*p) + 11/25*sqrt(5)*(1/8*sqrt(5) + 3/8)^(1/2*p) - 11/25*sqrt(5)*(-1/8*sqrt(5) + 3/8)^(1/2*p) - 17/50*(1/8*sqrt(5) + 3/8)^(1/2*p) - 17/50*(-1/8*sqrt(5) + 3/8)^(1/2*p) - 1/6*p/4^(1/2*p) + 13/18/4^(1/2*p) + 149/1800"
      ]
     },
     "metadata": {},
     "output_type": "display_data"
    },
    {
     "name": "stdout",
     "output_type": "stream",
     "text": [
      "is positive for p in [8,10].\n",
      "\n",
      "\n",
      "Coefficient h_2:\n"
     ]
    },
    {
     "data": {
      "text/html": [
       "<html><script type=\"math/tex; mode=display\">\\newcommand{\\Bold}[1]{\\mathbf{#1}}\\frac{9}{50} \\, \\sqrt{5} p {\\left(\\frac{1}{8} \\, \\sqrt{5} + \\frac{3}{8}\\right)}^{\\frac{1}{2} \\, p} - \\frac{9}{50} \\, \\sqrt{5} p {\\left(-\\frac{1}{8} \\, \\sqrt{5} + \\frac{3}{8}\\right)}^{\\frac{1}{2} \\, p} - \\frac{11}{30} \\, p {\\left(\\frac{1}{8} \\, \\sqrt{5} + \\frac{3}{8}\\right)}^{\\frac{1}{2} \\, p} - \\frac{11}{30} \\, p {\\left(-\\frac{1}{8} \\, \\sqrt{5} + \\frac{3}{8}\\right)}^{\\frac{1}{2} \\, p} + \\frac{44}{75} \\, \\sqrt{5} {\\left(\\frac{1}{8} \\, \\sqrt{5} + \\frac{3}{8}\\right)}^{\\frac{1}{2} \\, p} - \\frac{44}{75} \\, \\sqrt{5} {\\left(-\\frac{1}{8} \\, \\sqrt{5} + \\frac{3}{8}\\right)}^{\\frac{1}{2} \\, p} - \\frac{82}{75} \\, {\\left(\\frac{1}{8} \\, \\sqrt{5} + \\frac{3}{8}\\right)}^{\\frac{1}{2} \\, p} - \\frac{82}{75} \\, {\\left(-\\frac{1}{8} \\, \\sqrt{5} + \\frac{3}{8}\\right)}^{\\frac{1}{2} \\, p} - \\frac{2 \\, p}{3 \\cdot 4^{\\frac{1}{2} \\, p}} + \\frac{14}{9 \\cdot 4^{\\frac{1}{2} \\, p}} + \\frac{59}{450}</script></html>"
      ],
      "text/latex": [
       "$$\\newcommand{\\Bold}[1]{\\mathbf{#1}}\\frac{9}{50} \\, \\sqrt{5} p {\\left(\\frac{1}{8} \\, \\sqrt{5} + \\frac{3}{8}\\right)}^{\\frac{1}{2} \\, p} - \\frac{9}{50} \\, \\sqrt{5} p {\\left(-\\frac{1}{8} \\, \\sqrt{5} + \\frac{3}{8}\\right)}^{\\frac{1}{2} \\, p} - \\frac{11}{30} \\, p {\\left(\\frac{1}{8} \\, \\sqrt{5} + \\frac{3}{8}\\right)}^{\\frac{1}{2} \\, p} - \\frac{11}{30} \\, p {\\left(-\\frac{1}{8} \\, \\sqrt{5} + \\frac{3}{8}\\right)}^{\\frac{1}{2} \\, p} + \\frac{44}{75} \\, \\sqrt{5} {\\left(\\frac{1}{8} \\, \\sqrt{5} + \\frac{3}{8}\\right)}^{\\frac{1}{2} \\, p} - \\frac{44}{75} \\, \\sqrt{5} {\\left(-\\frac{1}{8} \\, \\sqrt{5} + \\frac{3}{8}\\right)}^{\\frac{1}{2} \\, p} - \\frac{82}{75} \\, {\\left(\\frac{1}{8} \\, \\sqrt{5} + \\frac{3}{8}\\right)}^{\\frac{1}{2} \\, p} - \\frac{82}{75} \\, {\\left(-\\frac{1}{8} \\, \\sqrt{5} + \\frac{3}{8}\\right)}^{\\frac{1}{2} \\, p} - \\frac{2 \\, p}{3 \\cdot 4^{\\frac{1}{2} \\, p}} + \\frac{14}{9 \\cdot 4^{\\frac{1}{2} \\, p}} + \\frac{59}{450}$$"
      ],
      "text/plain": [
       "9/50*sqrt(5)*p*(1/8*sqrt(5) + 3/8)^(1/2*p) - 9/50*sqrt(5)*p*(-1/8*sqrt(5) + 3/8)^(1/2*p) - 11/30*p*(1/8*sqrt(5) + 3/8)^(1/2*p) - 11/30*p*(-1/8*sqrt(5) + 3/8)^(1/2*p) + 44/75*sqrt(5)*(1/8*sqrt(5) + 3/8)^(1/2*p) - 44/75*sqrt(5)*(-1/8*sqrt(5) + 3/8)^(1/2*p) - 82/75*(1/8*sqrt(5) + 3/8)^(1/2*p) - 82/75*(-1/8*sqrt(5) + 3/8)^(1/2*p) - 2/3*p/4^(1/2*p) + 14/9/4^(1/2*p) + 59/450"
      ]
     },
     "metadata": {},
     "output_type": "display_data"
    },
    {
     "name": "stdout",
     "output_type": "stream",
     "text": [
      "is positive for p in [8,10].\n",
      "\n",
      "\n",
      "Coefficient h_3:\n"
     ]
    },
    {
     "data": {
      "text/html": [
       "<html><script type=\"math/tex; mode=display\">\\newcommand{\\Bold}[1]{\\mathbf{#1}}\\frac{14}{125} \\, \\sqrt{5} p {\\left(\\frac{1}{8} \\, \\sqrt{5} + \\frac{3}{8}\\right)}^{\\frac{1}{2} \\, p} - \\frac{14}{125} \\, \\sqrt{5} p {\\left(-\\frac{1}{8} \\, \\sqrt{5} + \\frac{3}{8}\\right)}^{\\frac{1}{2} \\, p} - \\frac{6}{25} \\, p {\\left(\\frac{1}{8} \\, \\sqrt{5} + \\frac{3}{8}\\right)}^{\\frac{1}{2} \\, p} - \\frac{6}{25} \\, p {\\left(-\\frac{1}{8} \\, \\sqrt{5} + \\frac{3}{8}\\right)}^{\\frac{1}{2} \\, p} + \\frac{8}{25} \\, \\sqrt{5} {\\left(\\frac{1}{8} \\, \\sqrt{5} + \\frac{3}{8}\\right)}^{\\frac{1}{2} \\, p} - \\frac{8}{25} \\, \\sqrt{5} {\\left(-\\frac{1}{8} \\, \\sqrt{5} + \\frac{3}{8}\\right)}^{\\frac{1}{2} \\, p} - \\frac{128}{125} \\, {\\left(\\frac{1}{8} \\, \\sqrt{5} + \\frac{3}{8}\\right)}^{\\frac{1}{2} \\, p} - \\frac{128}{125} \\, {\\left(-\\frac{1}{8} \\, \\sqrt{5} + \\frac{3}{8}\\right)}^{\\frac{1}{2} \\, p} - \\frac{8 \\, p}{15 \\cdot 4^{\\frac{1}{2} \\, p}} + \\frac{104}{45 \\cdot 4^{\\frac{1}{2} \\, p}} + \\frac{154}{1125}</script></html>"
      ],
      "text/latex": [
       "$$\\newcommand{\\Bold}[1]{\\mathbf{#1}}\\frac{14}{125} \\, \\sqrt{5} p {\\left(\\frac{1}{8} \\, \\sqrt{5} + \\frac{3}{8}\\right)}^{\\frac{1}{2} \\, p} - \\frac{14}{125} \\, \\sqrt{5} p {\\left(-\\frac{1}{8} \\, \\sqrt{5} + \\frac{3}{8}\\right)}^{\\frac{1}{2} \\, p} - \\frac{6}{25} \\, p {\\left(\\frac{1}{8} \\, \\sqrt{5} + \\frac{3}{8}\\right)}^{\\frac{1}{2} \\, p} - \\frac{6}{25} \\, p {\\left(-\\frac{1}{8} \\, \\sqrt{5} + \\frac{3}{8}\\right)}^{\\frac{1}{2} \\, p} + \\frac{8}{25} \\, \\sqrt{5} {\\left(\\frac{1}{8} \\, \\sqrt{5} + \\frac{3}{8}\\right)}^{\\frac{1}{2} \\, p} - \\frac{8}{25} \\, \\sqrt{5} {\\left(-\\frac{1}{8} \\, \\sqrt{5} + \\frac{3}{8}\\right)}^{\\frac{1}{2} \\, p} - \\frac{128}{125} \\, {\\left(\\frac{1}{8} \\, \\sqrt{5} + \\frac{3}{8}\\right)}^{\\frac{1}{2} \\, p} - \\frac{128}{125} \\, {\\left(-\\frac{1}{8} \\, \\sqrt{5} + \\frac{3}{8}\\right)}^{\\frac{1}{2} \\, p} - \\frac{8 \\, p}{15 \\cdot 4^{\\frac{1}{2} \\, p}} + \\frac{104}{45 \\cdot 4^{\\frac{1}{2} \\, p}} + \\frac{154}{1125}$$"
      ],
      "text/plain": [
       "14/125*sqrt(5)*p*(1/8*sqrt(5) + 3/8)^(1/2*p) - 14/125*sqrt(5)*p*(-1/8*sqrt(5) + 3/8)^(1/2*p) - 6/25*p*(1/8*sqrt(5) + 3/8)^(1/2*p) - 6/25*p*(-1/8*sqrt(5) + 3/8)^(1/2*p) + 8/25*sqrt(5)*(1/8*sqrt(5) + 3/8)^(1/2*p) - 8/25*sqrt(5)*(-1/8*sqrt(5) + 3/8)^(1/2*p) - 128/125*(1/8*sqrt(5) + 3/8)^(1/2*p) - 128/125*(-1/8*sqrt(5) + 3/8)^(1/2*p) - 8/15*p/4^(1/2*p) + 104/45/4^(1/2*p) + 154/1125"
      ]
     },
     "metadata": {},
     "output_type": "display_data"
    },
    {
     "name": "stdout",
     "output_type": "stream",
     "text": [
      "is positive for p in [8,10].\n",
      "\n",
      "\n",
      "Coefficient h_4:\n"
     ]
    },
    {
     "data": {
      "text/html": [
       "<html><script type=\"math/tex; mode=display\">\\newcommand{\\Bold}[1]{\\mathbf{#1}}\\frac{16}{875} \\, \\sqrt{5} p {\\left(\\frac{1}{8} \\, \\sqrt{5} + \\frac{3}{8}\\right)}^{\\frac{1}{2} \\, p} - \\frac{16}{875} \\, \\sqrt{5} p {\\left(-\\frac{1}{8} \\, \\sqrt{5} + \\frac{3}{8}\\right)}^{\\frac{1}{2} \\, p} - \\frac{16}{175} \\, p {\\left(\\frac{1}{8} \\, \\sqrt{5} + \\frac{3}{8}\\right)}^{\\frac{1}{2} \\, p} - \\frac{16}{175} \\, p {\\left(-\\frac{1}{8} \\, \\sqrt{5} + \\frac{3}{8}\\right)}^{\\frac{1}{2} \\, p} + \\frac{192}{875} \\, \\sqrt{5} {\\left(\\frac{1}{8} \\, \\sqrt{5} + \\frac{3}{8}\\right)}^{\\frac{1}{2} \\, p} - \\frac{192}{875} \\, \\sqrt{5} {\\left(-\\frac{1}{8} \\, \\sqrt{5} + \\frac{3}{8}\\right)}^{\\frac{1}{2} \\, p} - \\frac{512}{875} \\, {\\left(\\frac{1}{8} \\, \\sqrt{5} + \\frac{3}{8}\\right)}^{\\frac{1}{2} \\, p} - \\frac{512}{875} \\, {\\left(-\\frac{1}{8} \\, \\sqrt{5} + \\frac{3}{8}\\right)}^{\\frac{1}{2} \\, p} + \\frac{64}{105 \\cdot 4^{\\frac{1}{2} \\, p}} + \\frac{272}{2625}</script></html>"
      ],
      "text/latex": [
       "$$\\newcommand{\\Bold}[1]{\\mathbf{#1}}\\frac{16}{875} \\, \\sqrt{5} p {\\left(\\frac{1}{8} \\, \\sqrt{5} + \\frac{3}{8}\\right)}^{\\frac{1}{2} \\, p} - \\frac{16}{875} \\, \\sqrt{5} p {\\left(-\\frac{1}{8} \\, \\sqrt{5} + \\frac{3}{8}\\right)}^{\\frac{1}{2} \\, p} - \\frac{16}{175} \\, p {\\left(\\frac{1}{8} \\, \\sqrt{5} + \\frac{3}{8}\\right)}^{\\frac{1}{2} \\, p} - \\frac{16}{175} \\, p {\\left(-\\frac{1}{8} \\, \\sqrt{5} + \\frac{3}{8}\\right)}^{\\frac{1}{2} \\, p} + \\frac{192}{875} \\, \\sqrt{5} {\\left(\\frac{1}{8} \\, \\sqrt{5} + \\frac{3}{8}\\right)}^{\\frac{1}{2} \\, p} - \\frac{192}{875} \\, \\sqrt{5} {\\left(-\\frac{1}{8} \\, \\sqrt{5} + \\frac{3}{8}\\right)}^{\\frac{1}{2} \\, p} - \\frac{512}{875} \\, {\\left(\\frac{1}{8} \\, \\sqrt{5} + \\frac{3}{8}\\right)}^{\\frac{1}{2} \\, p} - \\frac{512}{875} \\, {\\left(-\\frac{1}{8} \\, \\sqrt{5} + \\frac{3}{8}\\right)}^{\\frac{1}{2} \\, p} + \\frac{64}{105 \\cdot 4^{\\frac{1}{2} \\, p}} + \\frac{272}{2625}$$"
      ],
      "text/plain": [
       "16/875*sqrt(5)*p*(1/8*sqrt(5) + 3/8)^(1/2*p) - 16/875*sqrt(5)*p*(-1/8*sqrt(5) + 3/8)^(1/2*p) - 16/175*p*(1/8*sqrt(5) + 3/8)^(1/2*p) - 16/175*p*(-1/8*sqrt(5) + 3/8)^(1/2*p) + 192/875*sqrt(5)*(1/8*sqrt(5) + 3/8)^(1/2*p) - 192/875*sqrt(5)*(-1/8*sqrt(5) + 3/8)^(1/2*p) - 512/875*(1/8*sqrt(5) + 3/8)^(1/2*p) - 512/875*(-1/8*sqrt(5) + 3/8)^(1/2*p) + 64/105/4^(1/2*p) + 272/2625"
      ]
     },
     "metadata": {},
     "output_type": "display_data"
    },
    {
     "name": "stdout",
     "output_type": "stream",
     "text": [
      "is positive for p in [8,10].\n",
      "\n",
      "\n"
     ]
    }
   ],
   "source": [
    "for n in range(5):\n",
    "    c = coeffs[n]\n",
    "    p_it = RIF(8)\n",
    "    numit = 0\n",
    "    while p_it <= RIF(10):\n",
    "        p_it = p_it + RIF(c.subs(p = p_it))\n",
    "        numit += 1        \n",
    "#   Since we got outside the loop, our coefficient must be positive.\n",
    "    print(\"Coefficient h_%d:\" % n)\n",
    "    show(expand(c))\n",
    "    print(\"is positive for p in [8,10].\\n\\n\")\n",
    "#     print(numit)"
   ]
  },
  {
   "cell_type": "markdown",
   "metadata": {},
   "source": [
    "### Positivity of $h_5,h_7,h_8$"
   ]
  },
  {
   "cell_type": "markdown",
   "metadata": {},
   "source": [
    "Symbolic verification that the last three coefficients turn to 0 at $p=8$:"
   ]
  },
  {
   "cell_type": "code",
   "execution_count": 15,
   "metadata": {},
   "outputs": [
    {
     "data": {
      "text/plain": [
       "[0, 0, 0]"
      ]
     },
     "execution_count": 15,
     "metadata": {},
     "output_type": "execute_result"
    }
   ],
   "source": [
    "[coeffs[i].subs(p=8).expand() for i in [5,7,8]]"
   ]
  },
  {
   "cell_type": "markdown",
   "metadata": {},
   "source": [
    "The same applies to $h_7$ and $h_8$ at $p=10$:"
   ]
  },
  {
   "cell_type": "code",
   "execution_count": 16,
   "metadata": {},
   "outputs": [
    {
     "data": {
      "text/plain": [
       "[0, 0]"
      ]
     },
     "execution_count": 16,
     "metadata": {},
     "output_type": "execute_result"
    }
   ],
   "source": [
    "[coeffs[i].subs(p=10).expand() for i in [7,8]]"
   ]
  },
  {
   "cell_type": "markdown",
   "metadata": {},
   "source": [
    "For $h_5$ it will suffice to verify that $dh_5/dp > 0 $ on $[8,10]$. This will be done similarly to the verification of positivity of the coefficients above, using the second derivative $ \\frac{d^2\\,h_5}{dp^2} $. For the same reason we shall need 2nd derivatives of $h_7, h_8$, so we compute them as well."
   ]
  },
  {
   "cell_type": "code",
   "execution_count": 17,
   "metadata": {},
   "outputs": [],
   "source": [
    "coeffs2 = [coeffs[5]] + coeffs[7:9]"
   ]
  },
  {
   "cell_type": "code",
   "execution_count": 18,
   "metadata": {},
   "outputs": [],
   "source": [
    "deriv2_bounds = []\n",
    "for c in coeffs2:\n",
    "    c2prime = diff(diff(expand(c),p),p)\n",
    "    c2sub = c2prime.subs((1/8*sqrt(5) + 3/8)^(1/2*p)==(1/8*sqrt(5) + 3/8)^(1/2*RIF(8))\n",
    "             ).subs((-1/8*sqrt(5) + 3/8)^(1/2*p)==(-1/8*sqrt(5) + 3/8)^(1/2*RIF(8))\n",
    "                   ).subs(4^(1/2*p)==4^(1/2*RIF(8))\n",
    "                         ).subs(p=RIF(10))\n",
    "\n",
    "    deriv2_bound = symbolic_expression(0)\n",
    "    for o in c2sub.operands():\n",
    "        deriv2_bound += abs(o)\n",
    "    deriv2_bounds.append(RIF(deriv2_bound))"
   ]
  },
  {
   "cell_type": "code",
   "execution_count": 19,
   "metadata": {},
   "outputs": [
    {
     "data": {
      "text/plain": [
       "[[0.017230522423253111 .. 0.017230522423253195],\n",
       " [0.034153895491620095 .. 0.034153895491620262],\n",
       " [0.16177123014881653 .. 0.16177123014881740]]"
      ]
     },
     "execution_count": 19,
     "metadata": {},
     "output_type": "execute_result"
    }
   ],
   "source": [
    "deriv2_bounds"
   ]
  },
  {
   "cell_type": "markdown",
   "metadata": {},
   "source": [
    "Hence a uniform bound for $h_n'', n = 5,7,8$ is e.g. 0.2. Just as above, if for some $p_0$, $h_n'(p_0) > 0$, then the same applies to $h_n'(p_0 + 5h_n(p_0))$, and also\n",
    "$$ h_n(p) >0, \\qquad p \\in [p_0, p_0 + 5h_n(p_0)]. $$\n",
    "We iterate this argument for $h_5$."
   ]
  },
  {
   "cell_type": "code",
   "execution_count": 20,
   "metadata": {},
   "outputs": [
    {
     "name": "stdout",
     "output_type": "stream",
     "text": [
      "Derivative of the coefficient h_5:\n"
     ]
    },
    {
     "data": {
      "text/html": [
       "<html><script type=\"math/tex; mode=display\">\\newcommand{\\Bold}[1]{\\mathbf{#1}}\\frac{16}{1575} \\, \\sqrt{5} p {\\left(\\frac{1}{8} \\, \\sqrt{5} + \\frac{3}{8}\\right)}^{\\frac{1}{2} \\, p} \\log\\left(\\frac{1}{8} \\, \\sqrt{5} + \\frac{3}{8}\\right) - \\frac{16}{1575} \\, \\sqrt{5} p {\\left(-\\frac{1}{8} \\, \\sqrt{5} + \\frac{3}{8}\\right)}^{\\frac{1}{2} \\, p} \\log\\left(-\\frac{1}{8} \\, \\sqrt{5} + \\frac{3}{8}\\right) - \\frac{16}{315} \\, p {\\left(\\frac{1}{8} \\, \\sqrt{5} + \\frac{3}{8}\\right)}^{\\frac{1}{2} \\, p} \\log\\left(\\frac{1}{8} \\, \\sqrt{5} + \\frac{3}{8}\\right) - \\frac{16}{315} \\, p {\\left(-\\frac{1}{8} \\, \\sqrt{5} + \\frac{3}{8}\\right)}^{\\frac{1}{2} \\, p} \\log\\left(-\\frac{1}{8} \\, \\sqrt{5} + \\frac{3}{8}\\right) - \\frac{128}{1575} \\, \\sqrt{5} {\\left(\\frac{1}{8} \\, \\sqrt{5} + \\frac{3}{8}\\right)}^{\\frac{1}{2} \\, p} \\log\\left(\\frac{1}{8} \\, \\sqrt{5} + \\frac{3}{8}\\right) + \\frac{128}{1575} \\, \\sqrt{5} {\\left(-\\frac{1}{8} \\, \\sqrt{5} + \\frac{3}{8}\\right)}^{\\frac{1}{2} \\, p} \\log\\left(-\\frac{1}{8} \\, \\sqrt{5} + \\frac{3}{8}\\right) + \\frac{64}{225} \\, {\\left(\\frac{1}{8} \\, \\sqrt{5} + \\frac{3}{8}\\right)}^{\\frac{1}{2} \\, p} \\log\\left(\\frac{1}{8} \\, \\sqrt{5} + \\frac{3}{8}\\right) + \\frac{64}{225} \\, {\\left(-\\frac{1}{8} \\, \\sqrt{5} + \\frac{3}{8}\\right)}^{\\frac{1}{2} \\, p} \\log\\left(-\\frac{1}{8} \\, \\sqrt{5} + \\frac{3}{8}\\right) + \\frac{32}{1575} \\, \\sqrt{5} {\\left(\\frac{1}{8} \\, \\sqrt{5} + \\frac{3}{8}\\right)}^{\\frac{1}{2} \\, p} - \\frac{32}{1575} \\, \\sqrt{5} {\\left(-\\frac{1}{8} \\, \\sqrt{5} + \\frac{3}{8}\\right)}^{\\frac{1}{2} \\, p} - \\frac{32}{315} \\, {\\left(\\frac{1}{8} \\, \\sqrt{5} + \\frac{3}{8}\\right)}^{\\frac{1}{2} \\, p} - \\frac{32}{315} \\, {\\left(-\\frac{1}{8} \\, \\sqrt{5} + \\frac{3}{8}\\right)}^{\\frac{1}{2} \\, p} + \\frac{128 \\, \\log\\left(2\\right)}{189 \\cdot 4^{\\frac{1}{2} \\, p}}</script></html>"
      ],
      "text/latex": [
       "$$\\newcommand{\\Bold}[1]{\\mathbf{#1}}\\frac{16}{1575} \\, \\sqrt{5} p {\\left(\\frac{1}{8} \\, \\sqrt{5} + \\frac{3}{8}\\right)}^{\\frac{1}{2} \\, p} \\log\\left(\\frac{1}{8} \\, \\sqrt{5} + \\frac{3}{8}\\right) - \\frac{16}{1575} \\, \\sqrt{5} p {\\left(-\\frac{1}{8} \\, \\sqrt{5} + \\frac{3}{8}\\right)}^{\\frac{1}{2} \\, p} \\log\\left(-\\frac{1}{8} \\, \\sqrt{5} + \\frac{3}{8}\\right) - \\frac{16}{315} \\, p {\\left(\\frac{1}{8} \\, \\sqrt{5} + \\frac{3}{8}\\right)}^{\\frac{1}{2} \\, p} \\log\\left(\\frac{1}{8} \\, \\sqrt{5} + \\frac{3}{8}\\right) - \\frac{16}{315} \\, p {\\left(-\\frac{1}{8} \\, \\sqrt{5} + \\frac{3}{8}\\right)}^{\\frac{1}{2} \\, p} \\log\\left(-\\frac{1}{8} \\, \\sqrt{5} + \\frac{3}{8}\\right) - \\frac{128}{1575} \\, \\sqrt{5} {\\left(\\frac{1}{8} \\, \\sqrt{5} + \\frac{3}{8}\\right)}^{\\frac{1}{2} \\, p} \\log\\left(\\frac{1}{8} \\, \\sqrt{5} + \\frac{3}{8}\\right) + \\frac{128}{1575} \\, \\sqrt{5} {\\left(-\\frac{1}{8} \\, \\sqrt{5} + \\frac{3}{8}\\right)}^{\\frac{1}{2} \\, p} \\log\\left(-\\frac{1}{8} \\, \\sqrt{5} + \\frac{3}{8}\\right) + \\frac{64}{225} \\, {\\left(\\frac{1}{8} \\, \\sqrt{5} + \\frac{3}{8}\\right)}^{\\frac{1}{2} \\, p} \\log\\left(\\frac{1}{8} \\, \\sqrt{5} + \\frac{3}{8}\\right) + \\frac{64}{225} \\, {\\left(-\\frac{1}{8} \\, \\sqrt{5} + \\frac{3}{8}\\right)}^{\\frac{1}{2} \\, p} \\log\\left(-\\frac{1}{8} \\, \\sqrt{5} + \\frac{3}{8}\\right) + \\frac{32}{1575} \\, \\sqrt{5} {\\left(\\frac{1}{8} \\, \\sqrt{5} + \\frac{3}{8}\\right)}^{\\frac{1}{2} \\, p} - \\frac{32}{1575} \\, \\sqrt{5} {\\left(-\\frac{1}{8} \\, \\sqrt{5} + \\frac{3}{8}\\right)}^{\\frac{1}{2} \\, p} - \\frac{32}{315} \\, {\\left(\\frac{1}{8} \\, \\sqrt{5} + \\frac{3}{8}\\right)}^{\\frac{1}{2} \\, p} - \\frac{32}{315} \\, {\\left(-\\frac{1}{8} \\, \\sqrt{5} + \\frac{3}{8}\\right)}^{\\frac{1}{2} \\, p} + \\frac{128 \\, \\log\\left(2\\right)}{189 \\cdot 4^{\\frac{1}{2} \\, p}}$$"
      ],
      "text/plain": [
       "16/1575*sqrt(5)*p*(1/8*sqrt(5) + 3/8)^(1/2*p)*log(1/8*sqrt(5) + 3/8) - 16/1575*sqrt(5)*p*(-1/8*sqrt(5) + 3/8)^(1/2*p)*log(-1/8*sqrt(5) + 3/8) - 16/315*p*(1/8*sqrt(5) + 3/8)^(1/2*p)*log(1/8*sqrt(5) + 3/8) - 16/315*p*(-1/8*sqrt(5) + 3/8)^(1/2*p)*log(-1/8*sqrt(5) + 3/8) - 128/1575*sqrt(5)*(1/8*sqrt(5) + 3/8)^(1/2*p)*log(1/8*sqrt(5) + 3/8) + 128/1575*sqrt(5)*(-1/8*sqrt(5) + 3/8)^(1/2*p)*log(-1/8*sqrt(5) + 3/8) + 64/225*(1/8*sqrt(5) + 3/8)^(1/2*p)*log(1/8*sqrt(5) + 3/8) + 64/225*(-1/8*sqrt(5) + 3/8)^(1/2*p)*log(-1/8*sqrt(5) + 3/8) + 32/1575*sqrt(5)*(1/8*sqrt(5) + 3/8)^(1/2*p) - 32/1575*sqrt(5)*(-1/8*sqrt(5) + 3/8)^(1/2*p) - 32/315*(1/8*sqrt(5) + 3/8)^(1/2*p) - 32/315*(-1/8*sqrt(5) + 3/8)^(1/2*p) + 128/189*log(2)/4^(1/2*p)"
      ]
     },
     "metadata": {},
     "output_type": "display_data"
    },
    {
     "name": "stdout",
     "output_type": "stream",
     "text": [
      "is positive for p in [8,10].\n",
      "\n",
      "\n"
     ]
    }
   ],
   "source": [
    "cprime = diff(expand(coeffs[5]),p)\n",
    "p_it = RIF(8)\n",
    "numit = 0\n",
    "while p_it <= RIF(10):\n",
    "    p_it = p_it + RIF(5*cprime.subs(p = p_it))\n",
    "    numit += 1\n",
    "# print(numit)\n",
    "print(\"Derivative of the coefficient h_%d:\" % 5)\n",
    "show(cprime)\n",
    "print(\"is positive for p in [8,10].\\n\\n\")"
   ]
  },
  {
   "cell_type": "markdown",
   "metadata": {},
   "source": [
    "This gives the desired positivity of $h_5$ on $[8,10]$. To verify positivity of $h_n, n=7,8$, we show \n",
    "1. positivity of $h_n'$ on $[8,8.5]$; \n",
    "1. negativity of $h_n'$ on $[9.5, 10]$; \n",
    "1. positivity of $h_n$ on $[8.5,9.5]$."
   ]
  },
  {
   "cell_type": "code",
   "execution_count": 21,
   "metadata": {},
   "outputs": [],
   "source": [
    "R = RealIntervalField(100)"
   ]
  },
  {
   "cell_type": "markdown",
   "metadata": {},
   "source": [
    "Instead of performing steps with variable length as we did above, we shall make the step size fixed, in order to avoid accumulation of error. To prevent making steps that are too long, the fixed step is compared to $5h_n'(p_0)$. We also increase the precision of interval arithmetic from the default 53 bits to 100 bits."
   ]
  },
  {
   "cell_type": "code",
   "execution_count": 22,
   "metadata": {},
   "outputs": [
    {
     "name": "stdout",
     "output_type": "stream",
     "text": [
      "Derivative of the coefficient h_7:\n"
     ]
    },
    {
     "data": {
      "text/html": [
       "<html><script type=\"math/tex; mode=display\">\\newcommand{\\Bold}[1]{\\mathbf{#1}}-\\frac{64}{10725} \\, \\sqrt{5} p {\\left(\\frac{1}{8} \\, \\sqrt{5} + \\frac{3}{8}\\right)}^{\\frac{1}{2} \\, p} \\log\\left(\\frac{1}{8} \\, \\sqrt{5} + \\frac{3}{8}\\right) + \\frac{64}{10725} \\, \\sqrt{5} p {\\left(-\\frac{1}{8} \\, \\sqrt{5} + \\frac{3}{8}\\right)}^{\\frac{1}{2} \\, p} \\log\\left(-\\frac{1}{8} \\, \\sqrt{5} + \\frac{3}{8}\\right) + \\frac{64}{2145} \\, p {\\left(\\frac{1}{8} \\, \\sqrt{5} + \\frac{3}{8}\\right)}^{\\frac{1}{2} \\, p} \\log\\left(\\frac{1}{8} \\, \\sqrt{5} + \\frac{3}{8}\\right) + \\frac{64}{2145} \\, p {\\left(-\\frac{1}{8} \\, \\sqrt{5} + \\frac{3}{8}\\right)}^{\\frac{1}{2} \\, p} \\log\\left(-\\frac{1}{8} \\, \\sqrt{5} + \\frac{3}{8}\\right) - \\frac{2048}{10725} \\, \\sqrt{5} {\\left(\\frac{1}{8} \\, \\sqrt{5} + \\frac{3}{8}\\right)}^{\\frac{1}{2} \\, p} \\log\\left(\\frac{1}{8} \\, \\sqrt{5} + \\frac{3}{8}\\right) + \\frac{2048}{10725} \\, \\sqrt{5} {\\left(-\\frac{1}{8} \\, \\sqrt{5} + \\frac{3}{8}\\right)}^{\\frac{1}{2} \\, p} \\log\\left(-\\frac{1}{8} \\, \\sqrt{5} + \\frac{3}{8}\\right) + \\frac{256}{825} \\, {\\left(\\frac{1}{8} \\, \\sqrt{5} + \\frac{3}{8}\\right)}^{\\frac{1}{2} \\, p} \\log\\left(\\frac{1}{8} \\, \\sqrt{5} + \\frac{3}{8}\\right) + \\frac{256}{825} \\, {\\left(-\\frac{1}{8} \\, \\sqrt{5} + \\frac{3}{8}\\right)}^{\\frac{1}{2} \\, p} \\log\\left(-\\frac{1}{8} \\, \\sqrt{5} + \\frac{3}{8}\\right) - \\frac{128}{10725} \\, \\sqrt{5} {\\left(\\frac{1}{8} \\, \\sqrt{5} + \\frac{3}{8}\\right)}^{\\frac{1}{2} \\, p} + \\frac{128}{10725} \\, \\sqrt{5} {\\left(-\\frac{1}{8} \\, \\sqrt{5} + \\frac{3}{8}\\right)}^{\\frac{1}{2} \\, p} + \\frac{128}{2145} \\, {\\left(\\frac{1}{8} \\, \\sqrt{5} + \\frac{3}{8}\\right)}^{\\frac{1}{2} \\, p} + \\frac{128}{2145} \\, {\\left(-\\frac{1}{8} \\, \\sqrt{5} + \\frac{3}{8}\\right)}^{\\frac{1}{2} \\, p} - \\frac{512 \\, p \\log\\left(2\\right)}{1287 \\cdot 4^{\\frac{1}{2} \\, p}} + \\frac{3584 \\, \\log\\left(2\\right)}{3861 \\cdot 4^{\\frac{1}{2} \\, p}} + \\frac{512}{1287 \\cdot 4^{\\frac{1}{2} \\, p}}</script></html>"
      ],
      "text/latex": [
       "$$\\newcommand{\\Bold}[1]{\\mathbf{#1}}-\\frac{64}{10725} \\, \\sqrt{5} p {\\left(\\frac{1}{8} \\, \\sqrt{5} + \\frac{3}{8}\\right)}^{\\frac{1}{2} \\, p} \\log\\left(\\frac{1}{8} \\, \\sqrt{5} + \\frac{3}{8}\\right) + \\frac{64}{10725} \\, \\sqrt{5} p {\\left(-\\frac{1}{8} \\, \\sqrt{5} + \\frac{3}{8}\\right)}^{\\frac{1}{2} \\, p} \\log\\left(-\\frac{1}{8} \\, \\sqrt{5} + \\frac{3}{8}\\right) + \\frac{64}{2145} \\, p {\\left(\\frac{1}{8} \\, \\sqrt{5} + \\frac{3}{8}\\right)}^{\\frac{1}{2} \\, p} \\log\\left(\\frac{1}{8} \\, \\sqrt{5} + \\frac{3}{8}\\right) + \\frac{64}{2145} \\, p {\\left(-\\frac{1}{8} \\, \\sqrt{5} + \\frac{3}{8}\\right)}^{\\frac{1}{2} \\, p} \\log\\left(-\\frac{1}{8} \\, \\sqrt{5} + \\frac{3}{8}\\right) - \\frac{2048}{10725} \\, \\sqrt{5} {\\left(\\frac{1}{8} \\, \\sqrt{5} + \\frac{3}{8}\\right)}^{\\frac{1}{2} \\, p} \\log\\left(\\frac{1}{8} \\, \\sqrt{5} + \\frac{3}{8}\\right) + \\frac{2048}{10725} \\, \\sqrt{5} {\\left(-\\frac{1}{8} \\, \\sqrt{5} + \\frac{3}{8}\\right)}^{\\frac{1}{2} \\, p} \\log\\left(-\\frac{1}{8} \\, \\sqrt{5} + \\frac{3}{8}\\right) + \\frac{256}{825} \\, {\\left(\\frac{1}{8} \\, \\sqrt{5} + \\frac{3}{8}\\right)}^{\\frac{1}{2} \\, p} \\log\\left(\\frac{1}{8} \\, \\sqrt{5} + \\frac{3}{8}\\right) + \\frac{256}{825} \\, {\\left(-\\frac{1}{8} \\, \\sqrt{5} + \\frac{3}{8}\\right)}^{\\frac{1}{2} \\, p} \\log\\left(-\\frac{1}{8} \\, \\sqrt{5} + \\frac{3}{8}\\right) - \\frac{128}{10725} \\, \\sqrt{5} {\\left(\\frac{1}{8} \\, \\sqrt{5} + \\frac{3}{8}\\right)}^{\\frac{1}{2} \\, p} + \\frac{128}{10725} \\, \\sqrt{5} {\\left(-\\frac{1}{8} \\, \\sqrt{5} + \\frac{3}{8}\\right)}^{\\frac{1}{2} \\, p} + \\frac{128}{2145} \\, {\\left(\\frac{1}{8} \\, \\sqrt{5} + \\frac{3}{8}\\right)}^{\\frac{1}{2} \\, p} + \\frac{128}{2145} \\, {\\left(-\\frac{1}{8} \\, \\sqrt{5} + \\frac{3}{8}\\right)}^{\\frac{1}{2} \\, p} - \\frac{512 \\, p \\log\\left(2\\right)}{1287 \\cdot 4^{\\frac{1}{2} \\, p}} + \\frac{3584 \\, \\log\\left(2\\right)}{3861 \\cdot 4^{\\frac{1}{2} \\, p}} + \\frac{512}{1287 \\cdot 4^{\\frac{1}{2} \\, p}}$$"
      ],
      "text/plain": [
       "-64/10725*sqrt(5)*p*(1/8*sqrt(5) + 3/8)^(1/2*p)*log(1/8*sqrt(5) + 3/8) + 64/10725*sqrt(5)*p*(-1/8*sqrt(5) + 3/8)^(1/2*p)*log(-1/8*sqrt(5) + 3/8) + 64/2145*p*(1/8*sqrt(5) + 3/8)^(1/2*p)*log(1/8*sqrt(5) + 3/8) + 64/2145*p*(-1/8*sqrt(5) + 3/8)^(1/2*p)*log(-1/8*sqrt(5) + 3/8) - 2048/10725*sqrt(5)*(1/8*sqrt(5) + 3/8)^(1/2*p)*log(1/8*sqrt(5) + 3/8) + 2048/10725*sqrt(5)*(-1/8*sqrt(5) + 3/8)^(1/2*p)*log(-1/8*sqrt(5) + 3/8) + 256/825*(1/8*sqrt(5) + 3/8)^(1/2*p)*log(1/8*sqrt(5) + 3/8) + 256/825*(-1/8*sqrt(5) + 3/8)^(1/2*p)*log(-1/8*sqrt(5) + 3/8) - 128/10725*sqrt(5)*(1/8*sqrt(5) + 3/8)^(1/2*p) + 128/10725*sqrt(5)*(-1/8*sqrt(5) + 3/8)^(1/2*p) + 128/2145*(1/8*sqrt(5) + 3/8)^(1/2*p) + 128/2145*(-1/8*sqrt(5) + 3/8)^(1/2*p) - 512/1287*p*log(2)/4^(1/2*p) + 3584/3861*log(2)/4^(1/2*p) + 512/1287/4^(1/2*p)"
      ]
     },
     "metadata": {},
     "output_type": "display_data"
    },
    {
     "name": "stdout",
     "output_type": "stream",
     "text": [
      "is positive for p in [8,8.5].\n",
      "\n",
      "\n",
      "Derivative of the coefficient h_8:\n"
     ]
    },
    {
     "data": {
      "text/html": [
       "<html><script type=\"math/tex; mode=display\">\\newcommand{\\Bold}[1]{\\mathbf{#1}}-\\frac{1024}{10725} \\, \\sqrt{5} p {\\left(\\frac{1}{8} \\, \\sqrt{5} + \\frac{3}{8}\\right)}^{\\frac{1}{2} \\, p} \\log\\left(\\frac{1}{8} \\, \\sqrt{5} + \\frac{3}{8}\\right) + \\frac{1024}{10725} \\, \\sqrt{5} p {\\left(-\\frac{1}{8} \\, \\sqrt{5} + \\frac{3}{8}\\right)}^{\\frac{1}{2} \\, p} \\log\\left(-\\frac{1}{8} \\, \\sqrt{5} + \\frac{3}{8}\\right) + \\frac{7168}{32175} \\, p {\\left(\\frac{1}{8} \\, \\sqrt{5} + \\frac{3}{8}\\right)}^{\\frac{1}{2} \\, p} \\log\\left(\\frac{1}{8} \\, \\sqrt{5} + \\frac{3}{8}\\right) + \\frac{7168}{32175} \\, p {\\left(-\\frac{1}{8} \\, \\sqrt{5} + \\frac{3}{8}\\right)}^{\\frac{1}{2} \\, p} \\log\\left(-\\frac{1}{8} \\, \\sqrt{5} + \\frac{3}{8}\\right) - \\frac{32768}{160875} \\, \\sqrt{5} {\\left(\\frac{1}{8} \\, \\sqrt{5} + \\frac{3}{8}\\right)}^{\\frac{1}{2} \\, p} \\log\\left(\\frac{1}{8} \\, \\sqrt{5} + \\frac{3}{8}\\right) + \\frac{32768}{160875} \\, \\sqrt{5} {\\left(-\\frac{1}{8} \\, \\sqrt{5} + \\frac{3}{8}\\right)}^{\\frac{1}{2} \\, p} \\log\\left(-\\frac{1}{8} \\, \\sqrt{5} + \\frac{3}{8}\\right) + \\frac{4096}{10725} \\, {\\left(\\frac{1}{8} \\, \\sqrt{5} + \\frac{3}{8}\\right)}^{\\frac{1}{2} \\, p} \\log\\left(\\frac{1}{8} \\, \\sqrt{5} + \\frac{3}{8}\\right) + \\frac{4096}{10725} \\, {\\left(-\\frac{1}{8} \\, \\sqrt{5} + \\frac{3}{8}\\right)}^{\\frac{1}{2} \\, p} \\log\\left(-\\frac{1}{8} \\, \\sqrt{5} + \\frac{3}{8}\\right) - \\frac{2048}{10725} \\, \\sqrt{5} {\\left(\\frac{1}{8} \\, \\sqrt{5} + \\frac{3}{8}\\right)}^{\\frac{1}{2} \\, p} + \\frac{2048}{10725} \\, \\sqrt{5} {\\left(-\\frac{1}{8} \\, \\sqrt{5} + \\frac{3}{8}\\right)}^{\\frac{1}{2} \\, p} + \\frac{14336}{32175} \\, {\\left(\\frac{1}{8} \\, \\sqrt{5} + \\frac{3}{8}\\right)}^{\\frac{1}{2} \\, p} + \\frac{14336}{32175} \\, {\\left(-\\frac{1}{8} \\, \\sqrt{5} + \\frac{3}{8}\\right)}^{\\frac{1}{2} \\, p} - \\frac{8192 \\, p \\log\\left(2\\right)}{19305 \\cdot 4^{\\frac{1}{2} \\, p}} + \\frac{8192 \\, \\log\\left(2\\right)}{4455 \\cdot 4^{\\frac{1}{2} \\, p}} + \\frac{8192}{19305 \\cdot 4^{\\frac{1}{2} \\, p}}</script></html>"
      ],
      "text/latex": [
       "$$\\newcommand{\\Bold}[1]{\\mathbf{#1}}-\\frac{1024}{10725} \\, \\sqrt{5} p {\\left(\\frac{1}{8} \\, \\sqrt{5} + \\frac{3}{8}\\right)}^{\\frac{1}{2} \\, p} \\log\\left(\\frac{1}{8} \\, \\sqrt{5} + \\frac{3}{8}\\right) + \\frac{1024}{10725} \\, \\sqrt{5} p {\\left(-\\frac{1}{8} \\, \\sqrt{5} + \\frac{3}{8}\\right)}^{\\frac{1}{2} \\, p} \\log\\left(-\\frac{1}{8} \\, \\sqrt{5} + \\frac{3}{8}\\right) + \\frac{7168}{32175} \\, p {\\left(\\frac{1}{8} \\, \\sqrt{5} + \\frac{3}{8}\\right)}^{\\frac{1}{2} \\, p} \\log\\left(\\frac{1}{8} \\, \\sqrt{5} + \\frac{3}{8}\\right) + \\frac{7168}{32175} \\, p {\\left(-\\frac{1}{8} \\, \\sqrt{5} + \\frac{3}{8}\\right)}^{\\frac{1}{2} \\, p} \\log\\left(-\\frac{1}{8} \\, \\sqrt{5} + \\frac{3}{8}\\right) - \\frac{32768}{160875} \\, \\sqrt{5} {\\left(\\frac{1}{8} \\, \\sqrt{5} + \\frac{3}{8}\\right)}^{\\frac{1}{2} \\, p} \\log\\left(\\frac{1}{8} \\, \\sqrt{5} + \\frac{3}{8}\\right) + \\frac{32768}{160875} \\, \\sqrt{5} {\\left(-\\frac{1}{8} \\, \\sqrt{5} + \\frac{3}{8}\\right)}^{\\frac{1}{2} \\, p} \\log\\left(-\\frac{1}{8} \\, \\sqrt{5} + \\frac{3}{8}\\right) + \\frac{4096}{10725} \\, {\\left(\\frac{1}{8} \\, \\sqrt{5} + \\frac{3}{8}\\right)}^{\\frac{1}{2} \\, p} \\log\\left(\\frac{1}{8} \\, \\sqrt{5} + \\frac{3}{8}\\right) + \\frac{4096}{10725} \\, {\\left(-\\frac{1}{8} \\, \\sqrt{5} + \\frac{3}{8}\\right)}^{\\frac{1}{2} \\, p} \\log\\left(-\\frac{1}{8} \\, \\sqrt{5} + \\frac{3}{8}\\right) - \\frac{2048}{10725} \\, \\sqrt{5} {\\left(\\frac{1}{8} \\, \\sqrt{5} + \\frac{3}{8}\\right)}^{\\frac{1}{2} \\, p} + \\frac{2048}{10725} \\, \\sqrt{5} {\\left(-\\frac{1}{8} \\, \\sqrt{5} + \\frac{3}{8}\\right)}^{\\frac{1}{2} \\, p} + \\frac{14336}{32175} \\, {\\left(\\frac{1}{8} \\, \\sqrt{5} + \\frac{3}{8}\\right)}^{\\frac{1}{2} \\, p} + \\frac{14336}{32175} \\, {\\left(-\\frac{1}{8} \\, \\sqrt{5} + \\frac{3}{8}\\right)}^{\\frac{1}{2} \\, p} - \\frac{8192 \\, p \\log\\left(2\\right)}{19305 \\cdot 4^{\\frac{1}{2} \\, p}} + \\frac{8192 \\, \\log\\left(2\\right)}{4455 \\cdot 4^{\\frac{1}{2} \\, p}} + \\frac{8192}{19305 \\cdot 4^{\\frac{1}{2} \\, p}}$$"
      ],
      "text/plain": [
       "-1024/10725*sqrt(5)*p*(1/8*sqrt(5) + 3/8)^(1/2*p)*log(1/8*sqrt(5) + 3/8) + 1024/10725*sqrt(5)*p*(-1/8*sqrt(5) + 3/8)^(1/2*p)*log(-1/8*sqrt(5) + 3/8) + 7168/32175*p*(1/8*sqrt(5) + 3/8)^(1/2*p)*log(1/8*sqrt(5) + 3/8) + 7168/32175*p*(-1/8*sqrt(5) + 3/8)^(1/2*p)*log(-1/8*sqrt(5) + 3/8) - 32768/160875*sqrt(5)*(1/8*sqrt(5) + 3/8)^(1/2*p)*log(1/8*sqrt(5) + 3/8) + 32768/160875*sqrt(5)*(-1/8*sqrt(5) + 3/8)^(1/2*p)*log(-1/8*sqrt(5) + 3/8) + 4096/10725*(1/8*sqrt(5) + 3/8)^(1/2*p)*log(1/8*sqrt(5) + 3/8) + 4096/10725*(-1/8*sqrt(5) + 3/8)^(1/2*p)*log(-1/8*sqrt(5) + 3/8) - 2048/10725*sqrt(5)*(1/8*sqrt(5) + 3/8)^(1/2*p) + 2048/10725*sqrt(5)*(-1/8*sqrt(5) + 3/8)^(1/2*p) + 14336/32175*(1/8*sqrt(5) + 3/8)^(1/2*p) + 14336/32175*(-1/8*sqrt(5) + 3/8)^(1/2*p) - 8192/19305*p*log(2)/4^(1/2*p) + 8192/4455*log(2)/4^(1/2*p) + 8192/19305/4^(1/2*p)"
      ]
     },
     "metadata": {},
     "output_type": "display_data"
    },
    {
     "name": "stdout",
     "output_type": "stream",
     "text": [
      "is positive for p in [8,8.5].\n",
      "\n",
      "\n"
     ]
    }
   ],
   "source": [
    "for n in (7..8):\n",
    "    cprime = diff(expand(coeffs[n]),p)\n",
    "    p_it = R(8)\n",
    "    step = R(0.00002)\n",
    "    numit = 0\n",
    "    flag = True\n",
    "    while p_it <= R(8.5):\n",
    "        if (R(cprime.subs(p = p_it)) > step):\n",
    "            p_it = p_it + 5*step\n",
    "            numit += 1\n",
    "        else:\n",
    "            flag = False\n",
    "            break\n",
    "    if (flag):\n",
    "        print(\"Derivative of the coefficient h_%d:\" % n)\n",
    "        show(cprime)\n",
    "        print(\"is positive for p in [8,8.5].\\n\\n\")"
   ]
  },
  {
   "cell_type": "markdown",
   "metadata": {},
   "source": [
    "Negativity of $h_n'(p)$, for $p$ in $[9.5,10]$:"
   ]
  },
  {
   "cell_type": "code",
   "execution_count": 23,
   "metadata": {},
   "outputs": [
    {
     "name": "stdout",
     "output_type": "stream",
     "text": [
      "Derivative of the coefficient h_7:\n"
     ]
    },
    {
     "data": {
      "text/html": [
       "<html><script type=\"math/tex; mode=display\">\\newcommand{\\Bold}[1]{\\mathbf{#1}}-\\frac{64}{10725} \\, \\sqrt{5} p {\\left(\\frac{1}{8} \\, \\sqrt{5} + \\frac{3}{8}\\right)}^{\\frac{1}{2} \\, p} \\log\\left(\\frac{1}{8} \\, \\sqrt{5} + \\frac{3}{8}\\right) + \\frac{64}{10725} \\, \\sqrt{5} p {\\left(-\\frac{1}{8} \\, \\sqrt{5} + \\frac{3}{8}\\right)}^{\\frac{1}{2} \\, p} \\log\\left(-\\frac{1}{8} \\, \\sqrt{5} + \\frac{3}{8}\\right) + \\frac{64}{2145} \\, p {\\left(\\frac{1}{8} \\, \\sqrt{5} + \\frac{3}{8}\\right)}^{\\frac{1}{2} \\, p} \\log\\left(\\frac{1}{8} \\, \\sqrt{5} + \\frac{3}{8}\\right) + \\frac{64}{2145} \\, p {\\left(-\\frac{1}{8} \\, \\sqrt{5} + \\frac{3}{8}\\right)}^{\\frac{1}{2} \\, p} \\log\\left(-\\frac{1}{8} \\, \\sqrt{5} + \\frac{3}{8}\\right) - \\frac{2048}{10725} \\, \\sqrt{5} {\\left(\\frac{1}{8} \\, \\sqrt{5} + \\frac{3}{8}\\right)}^{\\frac{1}{2} \\, p} \\log\\left(\\frac{1}{8} \\, \\sqrt{5} + \\frac{3}{8}\\right) + \\frac{2048}{10725} \\, \\sqrt{5} {\\left(-\\frac{1}{8} \\, \\sqrt{5} + \\frac{3}{8}\\right)}^{\\frac{1}{2} \\, p} \\log\\left(-\\frac{1}{8} \\, \\sqrt{5} + \\frac{3}{8}\\right) + \\frac{256}{825} \\, {\\left(\\frac{1}{8} \\, \\sqrt{5} + \\frac{3}{8}\\right)}^{\\frac{1}{2} \\, p} \\log\\left(\\frac{1}{8} \\, \\sqrt{5} + \\frac{3}{8}\\right) + \\frac{256}{825} \\, {\\left(-\\frac{1}{8} \\, \\sqrt{5} + \\frac{3}{8}\\right)}^{\\frac{1}{2} \\, p} \\log\\left(-\\frac{1}{8} \\, \\sqrt{5} + \\frac{3}{8}\\right) - \\frac{128}{10725} \\, \\sqrt{5} {\\left(\\frac{1}{8} \\, \\sqrt{5} + \\frac{3}{8}\\right)}^{\\frac{1}{2} \\, p} + \\frac{128}{10725} \\, \\sqrt{5} {\\left(-\\frac{1}{8} \\, \\sqrt{5} + \\frac{3}{8}\\right)}^{\\frac{1}{2} \\, p} + \\frac{128}{2145} \\, {\\left(\\frac{1}{8} \\, \\sqrt{5} + \\frac{3}{8}\\right)}^{\\frac{1}{2} \\, p} + \\frac{128}{2145} \\, {\\left(-\\frac{1}{8} \\, \\sqrt{5} + \\frac{3}{8}\\right)}^{\\frac{1}{2} \\, p} - \\frac{512 \\, p \\log\\left(2\\right)}{1287 \\cdot 4^{\\frac{1}{2} \\, p}} + \\frac{3584 \\, \\log\\left(2\\right)}{3861 \\cdot 4^{\\frac{1}{2} \\, p}} + \\frac{512}{1287 \\cdot 4^{\\frac{1}{2} \\, p}}</script></html>"
      ],
      "text/latex": [
       "$$\\newcommand{\\Bold}[1]{\\mathbf{#1}}-\\frac{64}{10725} \\, \\sqrt{5} p {\\left(\\frac{1}{8} \\, \\sqrt{5} + \\frac{3}{8}\\right)}^{\\frac{1}{2} \\, p} \\log\\left(\\frac{1}{8} \\, \\sqrt{5} + \\frac{3}{8}\\right) + \\frac{64}{10725} \\, \\sqrt{5} p {\\left(-\\frac{1}{8} \\, \\sqrt{5} + \\frac{3}{8}\\right)}^{\\frac{1}{2} \\, p} \\log\\left(-\\frac{1}{8} \\, \\sqrt{5} + \\frac{3}{8}\\right) + \\frac{64}{2145} \\, p {\\left(\\frac{1}{8} \\, \\sqrt{5} + \\frac{3}{8}\\right)}^{\\frac{1}{2} \\, p} \\log\\left(\\frac{1}{8} \\, \\sqrt{5} + \\frac{3}{8}\\right) + \\frac{64}{2145} \\, p {\\left(-\\frac{1}{8} \\, \\sqrt{5} + \\frac{3}{8}\\right)}^{\\frac{1}{2} \\, p} \\log\\left(-\\frac{1}{8} \\, \\sqrt{5} + \\frac{3}{8}\\right) - \\frac{2048}{10725} \\, \\sqrt{5} {\\left(\\frac{1}{8} \\, \\sqrt{5} + \\frac{3}{8}\\right)}^{\\frac{1}{2} \\, p} \\log\\left(\\frac{1}{8} \\, \\sqrt{5} + \\frac{3}{8}\\right) + \\frac{2048}{10725} \\, \\sqrt{5} {\\left(-\\frac{1}{8} \\, \\sqrt{5} + \\frac{3}{8}\\right)}^{\\frac{1}{2} \\, p} \\log\\left(-\\frac{1}{8} \\, \\sqrt{5} + \\frac{3}{8}\\right) + \\frac{256}{825} \\, {\\left(\\frac{1}{8} \\, \\sqrt{5} + \\frac{3}{8}\\right)}^{\\frac{1}{2} \\, p} \\log\\left(\\frac{1}{8} \\, \\sqrt{5} + \\frac{3}{8}\\right) + \\frac{256}{825} \\, {\\left(-\\frac{1}{8} \\, \\sqrt{5} + \\frac{3}{8}\\right)}^{\\frac{1}{2} \\, p} \\log\\left(-\\frac{1}{8} \\, \\sqrt{5} + \\frac{3}{8}\\right) - \\frac{128}{10725} \\, \\sqrt{5} {\\left(\\frac{1}{8} \\, \\sqrt{5} + \\frac{3}{8}\\right)}^{\\frac{1}{2} \\, p} + \\frac{128}{10725} \\, \\sqrt{5} {\\left(-\\frac{1}{8} \\, \\sqrt{5} + \\frac{3}{8}\\right)}^{\\frac{1}{2} \\, p} + \\frac{128}{2145} \\, {\\left(\\frac{1}{8} \\, \\sqrt{5} + \\frac{3}{8}\\right)}^{\\frac{1}{2} \\, p} + \\frac{128}{2145} \\, {\\left(-\\frac{1}{8} \\, \\sqrt{5} + \\frac{3}{8}\\right)}^{\\frac{1}{2} \\, p} - \\frac{512 \\, p \\log\\left(2\\right)}{1287 \\cdot 4^{\\frac{1}{2} \\, p}} + \\frac{3584 \\, \\log\\left(2\\right)}{3861 \\cdot 4^{\\frac{1}{2} \\, p}} + \\frac{512}{1287 \\cdot 4^{\\frac{1}{2} \\, p}}$$"
      ],
      "text/plain": [
       "-64/10725*sqrt(5)*p*(1/8*sqrt(5) + 3/8)^(1/2*p)*log(1/8*sqrt(5) + 3/8) + 64/10725*sqrt(5)*p*(-1/8*sqrt(5) + 3/8)^(1/2*p)*log(-1/8*sqrt(5) + 3/8) + 64/2145*p*(1/8*sqrt(5) + 3/8)^(1/2*p)*log(1/8*sqrt(5) + 3/8) + 64/2145*p*(-1/8*sqrt(5) + 3/8)^(1/2*p)*log(-1/8*sqrt(5) + 3/8) - 2048/10725*sqrt(5)*(1/8*sqrt(5) + 3/8)^(1/2*p)*log(1/8*sqrt(5) + 3/8) + 2048/10725*sqrt(5)*(-1/8*sqrt(5) + 3/8)^(1/2*p)*log(-1/8*sqrt(5) + 3/8) + 256/825*(1/8*sqrt(5) + 3/8)^(1/2*p)*log(1/8*sqrt(5) + 3/8) + 256/825*(-1/8*sqrt(5) + 3/8)^(1/2*p)*log(-1/8*sqrt(5) + 3/8) - 128/10725*sqrt(5)*(1/8*sqrt(5) + 3/8)^(1/2*p) + 128/10725*sqrt(5)*(-1/8*sqrt(5) + 3/8)^(1/2*p) + 128/2145*(1/8*sqrt(5) + 3/8)^(1/2*p) + 128/2145*(-1/8*sqrt(5) + 3/8)^(1/2*p) - 512/1287*p*log(2)/4^(1/2*p) + 3584/3861*log(2)/4^(1/2*p) + 512/1287/4^(1/2*p)"
      ]
     },
     "metadata": {},
     "output_type": "display_data"
    },
    {
     "name": "stdout",
     "output_type": "stream",
     "text": [
      "is negative for p in [9.5,10].\n",
      "\n",
      "\n",
      "Derivative of the coefficient h_8:\n"
     ]
    },
    {
     "data": {
      "text/html": [
       "<html><script type=\"math/tex; mode=display\">\\newcommand{\\Bold}[1]{\\mathbf{#1}}-\\frac{1024}{10725} \\, \\sqrt{5} p {\\left(\\frac{1}{8} \\, \\sqrt{5} + \\frac{3}{8}\\right)}^{\\frac{1}{2} \\, p} \\log\\left(\\frac{1}{8} \\, \\sqrt{5} + \\frac{3}{8}\\right) + \\frac{1024}{10725} \\, \\sqrt{5} p {\\left(-\\frac{1}{8} \\, \\sqrt{5} + \\frac{3}{8}\\right)}^{\\frac{1}{2} \\, p} \\log\\left(-\\frac{1}{8} \\, \\sqrt{5} + \\frac{3}{8}\\right) + \\frac{7168}{32175} \\, p {\\left(\\frac{1}{8} \\, \\sqrt{5} + \\frac{3}{8}\\right)}^{\\frac{1}{2} \\, p} \\log\\left(\\frac{1}{8} \\, \\sqrt{5} + \\frac{3}{8}\\right) + \\frac{7168}{32175} \\, p {\\left(-\\frac{1}{8} \\, \\sqrt{5} + \\frac{3}{8}\\right)}^{\\frac{1}{2} \\, p} \\log\\left(-\\frac{1}{8} \\, \\sqrt{5} + \\frac{3}{8}\\right) - \\frac{32768}{160875} \\, \\sqrt{5} {\\left(\\frac{1}{8} \\, \\sqrt{5} + \\frac{3}{8}\\right)}^{\\frac{1}{2} \\, p} \\log\\left(\\frac{1}{8} \\, \\sqrt{5} + \\frac{3}{8}\\right) + \\frac{32768}{160875} \\, \\sqrt{5} {\\left(-\\frac{1}{8} \\, \\sqrt{5} + \\frac{3}{8}\\right)}^{\\frac{1}{2} \\, p} \\log\\left(-\\frac{1}{8} \\, \\sqrt{5} + \\frac{3}{8}\\right) + \\frac{4096}{10725} \\, {\\left(\\frac{1}{8} \\, \\sqrt{5} + \\frac{3}{8}\\right)}^{\\frac{1}{2} \\, p} \\log\\left(\\frac{1}{8} \\, \\sqrt{5} + \\frac{3}{8}\\right) + \\frac{4096}{10725} \\, {\\left(-\\frac{1}{8} \\, \\sqrt{5} + \\frac{3}{8}\\right)}^{\\frac{1}{2} \\, p} \\log\\left(-\\frac{1}{8} \\, \\sqrt{5} + \\frac{3}{8}\\right) - \\frac{2048}{10725} \\, \\sqrt{5} {\\left(\\frac{1}{8} \\, \\sqrt{5} + \\frac{3}{8}\\right)}^{\\frac{1}{2} \\, p} + \\frac{2048}{10725} \\, \\sqrt{5} {\\left(-\\frac{1}{8} \\, \\sqrt{5} + \\frac{3}{8}\\right)}^{\\frac{1}{2} \\, p} + \\frac{14336}{32175} \\, {\\left(\\frac{1}{8} \\, \\sqrt{5} + \\frac{3}{8}\\right)}^{\\frac{1}{2} \\, p} + \\frac{14336}{32175} \\, {\\left(-\\frac{1}{8} \\, \\sqrt{5} + \\frac{3}{8}\\right)}^{\\frac{1}{2} \\, p} - \\frac{8192 \\, p \\log\\left(2\\right)}{19305 \\cdot 4^{\\frac{1}{2} \\, p}} + \\frac{8192 \\, \\log\\left(2\\right)}{4455 \\cdot 4^{\\frac{1}{2} \\, p}} + \\frac{8192}{19305 \\cdot 4^{\\frac{1}{2} \\, p}}</script></html>"
      ],
      "text/latex": [
       "$$\\newcommand{\\Bold}[1]{\\mathbf{#1}}-\\frac{1024}{10725} \\, \\sqrt{5} p {\\left(\\frac{1}{8} \\, \\sqrt{5} + \\frac{3}{8}\\right)}^{\\frac{1}{2} \\, p} \\log\\left(\\frac{1}{8} \\, \\sqrt{5} + \\frac{3}{8}\\right) + \\frac{1024}{10725} \\, \\sqrt{5} p {\\left(-\\frac{1}{8} \\, \\sqrt{5} + \\frac{3}{8}\\right)}^{\\frac{1}{2} \\, p} \\log\\left(-\\frac{1}{8} \\, \\sqrt{5} + \\frac{3}{8}\\right) + \\frac{7168}{32175} \\, p {\\left(\\frac{1}{8} \\, \\sqrt{5} + \\frac{3}{8}\\right)}^{\\frac{1}{2} \\, p} \\log\\left(\\frac{1}{8} \\, \\sqrt{5} + \\frac{3}{8}\\right) + \\frac{7168}{32175} \\, p {\\left(-\\frac{1}{8} \\, \\sqrt{5} + \\frac{3}{8}\\right)}^{\\frac{1}{2} \\, p} \\log\\left(-\\frac{1}{8} \\, \\sqrt{5} + \\frac{3}{8}\\right) - \\frac{32768}{160875} \\, \\sqrt{5} {\\left(\\frac{1}{8} \\, \\sqrt{5} + \\frac{3}{8}\\right)}^{\\frac{1}{2} \\, p} \\log\\left(\\frac{1}{8} \\, \\sqrt{5} + \\frac{3}{8}\\right) + \\frac{32768}{160875} \\, \\sqrt{5} {\\left(-\\frac{1}{8} \\, \\sqrt{5} + \\frac{3}{8}\\right)}^{\\frac{1}{2} \\, p} \\log\\left(-\\frac{1}{8} \\, \\sqrt{5} + \\frac{3}{8}\\right) + \\frac{4096}{10725} \\, {\\left(\\frac{1}{8} \\, \\sqrt{5} + \\frac{3}{8}\\right)}^{\\frac{1}{2} \\, p} \\log\\left(\\frac{1}{8} \\, \\sqrt{5} + \\frac{3}{8}\\right) + \\frac{4096}{10725} \\, {\\left(-\\frac{1}{8} \\, \\sqrt{5} + \\frac{3}{8}\\right)}^{\\frac{1}{2} \\, p} \\log\\left(-\\frac{1}{8} \\, \\sqrt{5} + \\frac{3}{8}\\right) - \\frac{2048}{10725} \\, \\sqrt{5} {\\left(\\frac{1}{8} \\, \\sqrt{5} + \\frac{3}{8}\\right)}^{\\frac{1}{2} \\, p} + \\frac{2048}{10725} \\, \\sqrt{5} {\\left(-\\frac{1}{8} \\, \\sqrt{5} + \\frac{3}{8}\\right)}^{\\frac{1}{2} \\, p} + \\frac{14336}{32175} \\, {\\left(\\frac{1}{8} \\, \\sqrt{5} + \\frac{3}{8}\\right)}^{\\frac{1}{2} \\, p} + \\frac{14336}{32175} \\, {\\left(-\\frac{1}{8} \\, \\sqrt{5} + \\frac{3}{8}\\right)}^{\\frac{1}{2} \\, p} - \\frac{8192 \\, p \\log\\left(2\\right)}{19305 \\cdot 4^{\\frac{1}{2} \\, p}} + \\frac{8192 \\, \\log\\left(2\\right)}{4455 \\cdot 4^{\\frac{1}{2} \\, p}} + \\frac{8192}{19305 \\cdot 4^{\\frac{1}{2} \\, p}}$$"
      ],
      "text/plain": [
       "-1024/10725*sqrt(5)*p*(1/8*sqrt(5) + 3/8)^(1/2*p)*log(1/8*sqrt(5) + 3/8) + 1024/10725*sqrt(5)*p*(-1/8*sqrt(5) + 3/8)^(1/2*p)*log(-1/8*sqrt(5) + 3/8) + 7168/32175*p*(1/8*sqrt(5) + 3/8)^(1/2*p)*log(1/8*sqrt(5) + 3/8) + 7168/32175*p*(-1/8*sqrt(5) + 3/8)^(1/2*p)*log(-1/8*sqrt(5) + 3/8) - 32768/160875*sqrt(5)*(1/8*sqrt(5) + 3/8)^(1/2*p)*log(1/8*sqrt(5) + 3/8) + 32768/160875*sqrt(5)*(-1/8*sqrt(5) + 3/8)^(1/2*p)*log(-1/8*sqrt(5) + 3/8) + 4096/10725*(1/8*sqrt(5) + 3/8)^(1/2*p)*log(1/8*sqrt(5) + 3/8) + 4096/10725*(-1/8*sqrt(5) + 3/8)^(1/2*p)*log(-1/8*sqrt(5) + 3/8) - 2048/10725*sqrt(5)*(1/8*sqrt(5) + 3/8)^(1/2*p) + 2048/10725*sqrt(5)*(-1/8*sqrt(5) + 3/8)^(1/2*p) + 14336/32175*(1/8*sqrt(5) + 3/8)^(1/2*p) + 14336/32175*(-1/8*sqrt(5) + 3/8)^(1/2*p) - 8192/19305*p*log(2)/4^(1/2*p) + 8192/4455*log(2)/4^(1/2*p) + 8192/19305/4^(1/2*p)"
      ]
     },
     "metadata": {},
     "output_type": "display_data"
    },
    {
     "name": "stdout",
     "output_type": "stream",
     "text": [
      "is negative for p in [9.5,10].\n",
      "\n",
      "\n"
     ]
    }
   ],
   "source": [
    "for n in (7..8):\n",
    "    cprime = diff(expand(coeffs[n]),p)\n",
    "    p_it = R(9.5)\n",
    "    step = R(0.00001)\n",
    "    numit = 0\n",
    "    flag = True\n",
    "    while p_it <= R(10):\n",
    "        if (R(cprime.subs(p = p_it)) < -step):\n",
    "            p_it = p_it + 5*step\n",
    "            numit += 1\n",
    "        else:\n",
    "            flag = False\n",
    "            break\n",
    "    if (flag):\n",
    "        print(\"Derivative of the coefficient h_%d:\" % n)\n",
    "        show(cprime)\n",
    "        print(\"is negative for p in [9.5,10].\\n\\n\")"
   ]
  },
  {
   "cell_type": "markdown",
   "metadata": {},
   "source": [
    "It remains to justify positivity of $h_n$ itself in the interval $[8.5,9.5]$. Since $h_n$ is positive at the endpoints of this interval, the strategy used for the first five coefficients applies here as well."
   ]
  },
  {
   "cell_type": "code",
   "execution_count": 24,
   "metadata": {},
   "outputs": [
    {
     "name": "stdout",
     "output_type": "stream",
     "text": [
      "Coefficient h_7:\n"
     ]
    },
    {
     "data": {
      "text/html": [
       "<html><script type=\"math/tex; mode=display\">\\newcommand{\\Bold}[1]{\\mathbf{#1}}-\\frac{128}{10725} \\, \\sqrt{5} p {\\left(\\frac{1}{8} \\, \\sqrt{5} + \\frac{3}{8}\\right)}^{\\frac{1}{2} \\, p} + \\frac{128}{10725} \\, \\sqrt{5} p {\\left(-\\frac{1}{8} \\, \\sqrt{5} + \\frac{3}{8}\\right)}^{\\frac{1}{2} \\, p} + \\frac{128}{2145} \\, p {\\left(\\frac{1}{8} \\, \\sqrt{5} + \\frac{3}{8}\\right)}^{\\frac{1}{2} \\, p} + \\frac{128}{2145} \\, p {\\left(-\\frac{1}{8} \\, \\sqrt{5} + \\frac{3}{8}\\right)}^{\\frac{1}{2} \\, p} - \\frac{4096}{10725} \\, \\sqrt{5} {\\left(\\frac{1}{8} \\, \\sqrt{5} + \\frac{3}{8}\\right)}^{\\frac{1}{2} \\, p} + \\frac{4096}{10725} \\, \\sqrt{5} {\\left(-\\frac{1}{8} \\, \\sqrt{5} + \\frac{3}{8}\\right)}^{\\frac{1}{2} \\, p} + \\frac{512}{825} \\, {\\left(\\frac{1}{8} \\, \\sqrt{5} + \\frac{3}{8}\\right)}^{\\frac{1}{2} \\, p} + \\frac{512}{825} \\, {\\left(-\\frac{1}{8} \\, \\sqrt{5} + \\frac{3}{8}\\right)}^{\\frac{1}{2} \\, p} + \\frac{512 \\, p}{1287 \\cdot 4^{\\frac{1}{2} \\, p}} - \\frac{3584}{3861 \\cdot 4^{\\frac{1}{2} \\, p}} - \\frac{128}{8775}</script></html>"
      ],
      "text/latex": [
       "$$\\newcommand{\\Bold}[1]{\\mathbf{#1}}-\\frac{128}{10725} \\, \\sqrt{5} p {\\left(\\frac{1}{8} \\, \\sqrt{5} + \\frac{3}{8}\\right)}^{\\frac{1}{2} \\, p} + \\frac{128}{10725} \\, \\sqrt{5} p {\\left(-\\frac{1}{8} \\, \\sqrt{5} + \\frac{3}{8}\\right)}^{\\frac{1}{2} \\, p} + \\frac{128}{2145} \\, p {\\left(\\frac{1}{8} \\, \\sqrt{5} + \\frac{3}{8}\\right)}^{\\frac{1}{2} \\, p} + \\frac{128}{2145} \\, p {\\left(-\\frac{1}{8} \\, \\sqrt{5} + \\frac{3}{8}\\right)}^{\\frac{1}{2} \\, p} - \\frac{4096}{10725} \\, \\sqrt{5} {\\left(\\frac{1}{8} \\, \\sqrt{5} + \\frac{3}{8}\\right)}^{\\frac{1}{2} \\, p} + \\frac{4096}{10725} \\, \\sqrt{5} {\\left(-\\frac{1}{8} \\, \\sqrt{5} + \\frac{3}{8}\\right)}^{\\frac{1}{2} \\, p} + \\frac{512}{825} \\, {\\left(\\frac{1}{8} \\, \\sqrt{5} + \\frac{3}{8}\\right)}^{\\frac{1}{2} \\, p} + \\frac{512}{825} \\, {\\left(-\\frac{1}{8} \\, \\sqrt{5} + \\frac{3}{8}\\right)}^{\\frac{1}{2} \\, p} + \\frac{512 \\, p}{1287 \\cdot 4^{\\frac{1}{2} \\, p}} - \\frac{3584}{3861 \\cdot 4^{\\frac{1}{2} \\, p}} - \\frac{128}{8775}$$"
      ],
      "text/plain": [
       "-128/10725*sqrt(5)*p*(1/8*sqrt(5) + 3/8)^(1/2*p) + 128/10725*sqrt(5)*p*(-1/8*sqrt(5) + 3/8)^(1/2*p) + 128/2145*p*(1/8*sqrt(5) + 3/8)^(1/2*p) + 128/2145*p*(-1/8*sqrt(5) + 3/8)^(1/2*p) - 4096/10725*sqrt(5)*(1/8*sqrt(5) + 3/8)^(1/2*p) + 4096/10725*sqrt(5)*(-1/8*sqrt(5) + 3/8)^(1/2*p) + 512/825*(1/8*sqrt(5) + 3/8)^(1/2*p) + 512/825*(-1/8*sqrt(5) + 3/8)^(1/2*p) + 512/1287*p/4^(1/2*p) - 3584/3861/4^(1/2*p) - 128/8775"
      ]
     },
     "metadata": {},
     "output_type": "display_data"
    },
    {
     "name": "stdout",
     "output_type": "stream",
     "text": [
      "is positive for p in [8.5,9.5].\n",
      "\n",
      "\n",
      "Coefficient h_8:\n"
     ]
    },
    {
     "data": {
      "text/html": [
       "<html><script type=\"math/tex; mode=display\">\\newcommand{\\Bold}[1]{\\mathbf{#1}}-\\frac{2048}{10725} \\, \\sqrt{5} p {\\left(\\frac{1}{8} \\, \\sqrt{5} + \\frac{3}{8}\\right)}^{\\frac{1}{2} \\, p} + \\frac{2048}{10725} \\, \\sqrt{5} p {\\left(-\\frac{1}{8} \\, \\sqrt{5} + \\frac{3}{8}\\right)}^{\\frac{1}{2} \\, p} + \\frac{14336}{32175} \\, p {\\left(\\frac{1}{8} \\, \\sqrt{5} + \\frac{3}{8}\\right)}^{\\frac{1}{2} \\, p} + \\frac{14336}{32175} \\, p {\\left(-\\frac{1}{8} \\, \\sqrt{5} + \\frac{3}{8}\\right)}^{\\frac{1}{2} \\, p} - \\frac{65536}{160875} \\, \\sqrt{5} {\\left(\\frac{1}{8} \\, \\sqrt{5} + \\frac{3}{8}\\right)}^{\\frac{1}{2} \\, p} + \\frac{65536}{160875} \\, \\sqrt{5} {\\left(-\\frac{1}{8} \\, \\sqrt{5} + \\frac{3}{8}\\right)}^{\\frac{1}{2} \\, p} + \\frac{8192}{10725} \\, {\\left(\\frac{1}{8} \\, \\sqrt{5} + \\frac{3}{8}\\right)}^{\\frac{1}{2} \\, p} + \\frac{8192}{10725} \\, {\\left(-\\frac{1}{8} \\, \\sqrt{5} + \\frac{3}{8}\\right)}^{\\frac{1}{2} \\, p} + \\frac{8192 \\, p}{19305 \\cdot 4^{\\frac{1}{2} \\, p}} - \\frac{8192}{4455 \\cdot 4^{\\frac{1}{2} \\, p}} - \\frac{2048}{289575}</script></html>"
      ],
      "text/latex": [
       "$$\\newcommand{\\Bold}[1]{\\mathbf{#1}}-\\frac{2048}{10725} \\, \\sqrt{5} p {\\left(\\frac{1}{8} \\, \\sqrt{5} + \\frac{3}{8}\\right)}^{\\frac{1}{2} \\, p} + \\frac{2048}{10725} \\, \\sqrt{5} p {\\left(-\\frac{1}{8} \\, \\sqrt{5} + \\frac{3}{8}\\right)}^{\\frac{1}{2} \\, p} + \\frac{14336}{32175} \\, p {\\left(\\frac{1}{8} \\, \\sqrt{5} + \\frac{3}{8}\\right)}^{\\frac{1}{2} \\, p} + \\frac{14336}{32175} \\, p {\\left(-\\frac{1}{8} \\, \\sqrt{5} + \\frac{3}{8}\\right)}^{\\frac{1}{2} \\, p} - \\frac{65536}{160875} \\, \\sqrt{5} {\\left(\\frac{1}{8} \\, \\sqrt{5} + \\frac{3}{8}\\right)}^{\\frac{1}{2} \\, p} + \\frac{65536}{160875} \\, \\sqrt{5} {\\left(-\\frac{1}{8} \\, \\sqrt{5} + \\frac{3}{8}\\right)}^{\\frac{1}{2} \\, p} + \\frac{8192}{10725} \\, {\\left(\\frac{1}{8} \\, \\sqrt{5} + \\frac{3}{8}\\right)}^{\\frac{1}{2} \\, p} + \\frac{8192}{10725} \\, {\\left(-\\frac{1}{8} \\, \\sqrt{5} + \\frac{3}{8}\\right)}^{\\frac{1}{2} \\, p} + \\frac{8192 \\, p}{19305 \\cdot 4^{\\frac{1}{2} \\, p}} - \\frac{8192}{4455 \\cdot 4^{\\frac{1}{2} \\, p}} - \\frac{2048}{289575}$$"
      ],
      "text/plain": [
       "-2048/10725*sqrt(5)*p*(1/8*sqrt(5) + 3/8)^(1/2*p) + 2048/10725*sqrt(5)*p*(-1/8*sqrt(5) + 3/8)^(1/2*p) + 14336/32175*p*(1/8*sqrt(5) + 3/8)^(1/2*p) + 14336/32175*p*(-1/8*sqrt(5) + 3/8)^(1/2*p) - 65536/160875*sqrt(5)*(1/8*sqrt(5) + 3/8)^(1/2*p) + 65536/160875*sqrt(5)*(-1/8*sqrt(5) + 3/8)^(1/2*p) + 8192/10725*(1/8*sqrt(5) + 3/8)^(1/2*p) + 8192/10725*(-1/8*sqrt(5) + 3/8)^(1/2*p) + 8192/19305*p/4^(1/2*p) - 8192/4455/4^(1/2*p) - 2048/289575"
      ]
     },
     "metadata": {},
     "output_type": "display_data"
    },
    {
     "name": "stdout",
     "output_type": "stream",
     "text": [
      "is positive for p in [8.5,9.5].\n",
      "\n",
      "\n"
     ]
    }
   ],
   "source": [
    "for n in (7..8):\n",
    "    c = expand(coeffs[n])\n",
    "    p_it = R(8.5)\n",
    "    step = R(0.00001)\n",
    "    numit = 0\n",
    "    flag = True\n",
    "    while p_it <= R(9.5):\n",
    "        if (R(c.subs(p = p_it)) > step):\n",
    "            p_it = p_it + step\n",
    "            numit += 1      \n",
    "        else:\n",
    "            flag = False\n",
    "            break\n",
    "    if(flag):\n",
    "        print(\"Coefficient h_%d:\" % n)\n",
    "        show(c)\n",
    "        print(\"is positive for p in [8.5,9.5].\\n\\n\")"
   ]
  }
 ],
 "metadata": {
  "kernelspec": {
   "display_name": "SageMath 9.3",
   "language": "sage",
   "name": "sagemath"
  },
  "language_info": {
   "codemirror_mode": {
    "name": "ipython",
    "version": 3
   },
   "file_extension": ".py",
   "mimetype": "text/x-python",
   "name": "python",
   "nbconvert_exporter": "python",
   "pygments_lexer": "ipython3",
   "version": "3.9.5"
  },
  "toc": {
   "nav_menu": {},
   "number_sections": true,
   "sideBar": true,
   "skip_h1_title": false,
   "title_cell": "Table of Contents",
   "title_sidebar": "Contents",
   "toc_cell": false,
   "toc_position": {},
   "toc_section_display": true,
   "toc_window_display": false
  },
  "varInspector": {
   "cols": {
    "lenName": 16,
    "lenType": 16,
    "lenVar": 40
   },
   "kernels_config": {
    "python": {
     "delete_cmd_postfix": "",
     "delete_cmd_prefix": "del ",
     "library": "var_list.py",
     "varRefreshCmd": "print(var_dic_list())"
    },
    "r": {
     "delete_cmd_postfix": ") ",
     "delete_cmd_prefix": "rm(",
     "library": "var_list.r",
     "varRefreshCmd": "cat(var_dic_list()) "
    }
   },
   "types_to_exclude": [
    "module",
    "function",
    "builtin_function_or_method",
    "instance",
    "_Feature"
   ],
   "window_display": false
  }
 },
 "nbformat": 4,
 "nbformat_minor": 4
}
